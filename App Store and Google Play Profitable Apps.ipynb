{
 "cells": [
  {
   "cell_type": "markdown",
   "metadata": {},
   "source": [
    "# App Store and Google Play Profitable Apps Profile \n",
    "\n",
    "**Introduction:** We want to find out what apps would be profitable in both mobile apps markets. We also want to make sure that they are the most used and downloaded. To do this we will find the apps with the highest rating, since users are happy with the app. Next we'll see what genre of app is most common.\n",
    "\n",
    "Finally we will find a few options for what apps would be best to create that can compete in the already overwhelming big market.\n",
    "\n",
    "https://www.kaggle.com/lava18/google-play-store-apps<br>\n",
    "https://www.kaggle.com/ramamet4/app-store-apple-data-set-10k-apps\n",
    "\n",
    "**Data**<br>\n",
    "Variables:"
   ]
  },
  {
   "cell_type": "code",
   "execution_count": 1,
   "metadata": {},
   "outputs": [],
   "source": [
    "from csv import reader\n",
    "def openafile(filename):\n",
    "    opened_file = open(filename,encoding='utf8')\n",
    "    read_file = reader(opened_file)\n",
    "    newdata = list(read_file)\n",
    "    return newdata\n",
    "\n",
    "google_data = openafile('googleplaystore.csv')\n",
    "app_datata = openafile('AppleStore.csv')"
   ]
  },
  {
   "cell_type": "code",
   "execution_count": 2,
   "metadata": {},
   "outputs": [
    {
     "name": "stdout",
     "output_type": "stream",
     "text": [
      "[['App', 'Category', 'Rating', 'Reviews', 'Size', 'Installs', 'Type', 'Price', 'Content Rating', 'Genres', 'Last Updated', 'Current Ver', 'Android Ver'], ['Photo Editor & Candy Camera & Grid & ScrapBook', 'ART_AND_DESIGN', '4.1', '159', '19M', '10,000+', 'Free', '0', 'Everyone', 'Art & Design', 'January 7, 2018', '1.0.0', '4.0.3 and up'], ['Coloring book moana', 'ART_AND_DESIGN', '3.9', '967', '14M', '500,000+', 'Free', '0', 'Everyone', 'Art & Design;Pretend Play', 'January 15, 2018', '2.0.0', '4.0.3 and up']]\n"
     ]
    }
   ],
   "source": [
    "print(google_data[:3])"
   ]
  },
  {
   "cell_type": "code",
   "execution_count": 3,
   "metadata": {},
   "outputs": [
    {
     "name": "stdout",
     "output_type": "stream",
     "text": [
      "[['', 'id', 'track_name', 'size_bytes', 'currency', 'price', 'rating_count_tot', 'rating_count_ver', 'user_rating', 'user_rating_ver', 'ver', 'cont_rating', 'prime_genre', 'sup_devices.num', 'ipadSc_urls.num', 'lang.num', 'vpp_lic'], ['1', '281656475', 'PAC-MAN Premium', '100788224', 'USD', '3.99', '21292', '26', '4', '4.5', '6.3.5', '4+', 'Games', '38', '5', '10', '1'], ['2', '281796108', 'Evernote - stay organized', '158578688', 'USD', '0', '161065', '26', '4', '3.5', '8.2.2', '4+', 'Productivity', '37', '5', '23', '1']]\n"
     ]
    }
   ],
   "source": [
    "print(app_datata[:3])"
   ]
  },
  {
   "cell_type": "markdown",
   "metadata": {},
   "source": [
    "# Let's explore the data\n",
    "First we will print out the first few rows of the data to get a sense of what the datasets look like. Then |e'll see the column headers to see what type data we could use for our goal."
   ]
  },
  {
   "cell_type": "code",
   "execution_count": 4,
   "metadata": {},
   "outputs": [],
   "source": [
    "def explore_data(dataset, start, end, rows_and_columns=False):\n",
    "    data_slice = dataset[start:end]\n",
    "    for row in data_slice:\n",
    "        print(row)\n",
    "        print('\\n')\n",
    "        \n",
    "    if rows_and_columns:\n",
    "        print('Number of rows:', len(dataset))\n",
    "        print('Number of columns:', len(dataset[0]))"
   ]
  },
  {
   "cell_type": "code",
   "execution_count": 5,
   "metadata": {},
   "outputs": [
    {
     "name": "stdout",
     "output_type": "stream",
     "text": [
      "['Photo Editor & Candy Camera & Grid & ScrapBook', 'ART_AND_DESIGN', '4.1', '159', '19M', '10,000+', 'Free', '0', 'Everyone', 'Art & Design', 'January 7, 2018', '1.0.0', '4.0.3 and up']\n",
      "\n",
      "\n",
      "['Coloring book moana', 'ART_AND_DESIGN', '3.9', '967', '14M', '500,000+', 'Free', '0', 'Everyone', 'Art & Design;Pretend Play', 'January 15, 2018', '2.0.0', '4.0.3 and up']\n",
      "\n",
      "\n",
      "['U Launcher Lite – FREE Live Cool Themes, Hide Apps', 'ART_AND_DESIGN', '4.7', '87510', '8.7M', '5,000,000+', 'Free', '0', 'Everyone', 'Art & Design', 'August 1, 2018', '1.2.4', '4.0.3 and up']\n",
      "\n",
      "\n",
      "Number of rows: 10842\n",
      "Number of columns: 13\n"
     ]
    }
   ],
   "source": [
    "explore_data(google_data,1,4,True)"
   ]
  },
  {
   "cell_type": "code",
   "execution_count": 6,
   "metadata": {},
   "outputs": [
    {
     "name": "stdout",
     "output_type": "stream",
     "text": [
      "['4', '282614216', 'eBay: Best App to Buy, Sell, Save! Online Shopping', '128512000', 'USD', '0', '262241', '649', '4', '4.5', '5.10.0', '12+', 'Shopping', '37', '5', '9', '1']\n",
      "\n",
      "\n",
      "['5', '282935706', 'Bible', '92774400', 'USD', '0', '985920', '5320', '4.5', '5', '7.5.1', '4+', 'Reference', '37', '5', '45', '1']\n",
      "\n",
      "\n",
      "['6', '283619399', 'Shanghai Mahjong', '10485713', 'USD', '0.99', '8253', '5516', '4', '4', '1.8', '4+', 'Games', '47', '5', '1', '1']\n",
      "\n",
      "\n",
      "Number of rows: 7198\n",
      "Number of columns: 17\n"
     ]
    }
   ],
   "source": [
    "explore_data(app_datata,4,7,True)"
   ]
  },
  {
   "cell_type": "markdown",
   "metadata": {},
   "source": [
    "### Columns\n",
    "Let's explore the columns to see what we can use for our purpose. We want to know if an app is free and the type of genre. We also want to know the rating, to see if users enjoy it."
   ]
  },
  {
   "cell_type": "code",
   "execution_count": 7,
   "metadata": {},
   "outputs": [
    {
     "name": "stdout",
     "output_type": "stream",
     "text": [
      "Google Play column headers ['App', 'Category', 'Rating', 'Reviews', 'Size', 'Installs', 'Type', 'Price', 'Content Rating', 'Genres', 'Last Updated', 'Current Ver', 'Android Ver']\n"
     ]
    }
   ],
   "source": [
    "print('Google Play column headers', google_data[0])"
   ]
  },
  {
   "cell_type": "code",
   "execution_count": 8,
   "metadata": {},
   "outputs": [
    {
     "name": "stdout",
     "output_type": "stream",
     "text": [
      "App Store column headers ['', 'id', 'track_name', 'size_bytes', 'currency', 'price', 'rating_count_tot', 'rating_count_ver', 'user_rating', 'user_rating_ver', 'ver', 'cont_rating', 'prime_genre', 'sup_devices.num', 'ipadSc_urls.num', 'lang.num', 'vpp_lic']\n"
     ]
    }
   ],
   "source": [
    "print('App Store column headers', app_datata[0])"
   ]
  },
  {
   "cell_type": "markdown",
   "metadata": {},
   "source": [
    "Looking at these, we will want from the Google Play Store:<br>\n",
    "- App - Application Name\n",
    "- Category - Category the app belongs to\n",
    "- Rating - Overall user rating of the app\n",
    "- Installs - Number of user downloads/ installs for the app\n",
    "- Type - Whether app is Free Paid\n",
    "- Genres - An app can belong to multiple genres (apart from its main category)\n",
    "<br><br>\n",
    "From the App Store we will want the following:<br><br>\n",
    "- track_name - Application Name\n",
    "- price - Price off app (0 for free apps)\n",
    "- rating_count_tot - User Rating counts for all versions\n",
    "- user_rating - Average User Rating value for all versions\n",
    "- prime_genre - Primary Genre\n",
    "\n",
    "The information of the column descriptions can be found on the linked webpage found in the introduction."
   ]
  },
  {
   "cell_type": "markdown",
   "metadata": {},
   "source": [
    "# Data Cleaning\n",
    "Now we will proceed to search for incorrect data. We will search for duplicates, and data that does not fit our criteria (paid apps). We will also check on the data webpage for comments from other users if there have been any errors or mistakes in the data.\n",
    "<br><br>\n",
    "The first step would be to check the source of the data's website. Here we found that there is an issue with row 10472 that has a missing value. \n",
    "The discussion section in the App store data did not have error data discussions."
   ]
  },
  {
   "cell_type": "code",
   "execution_count": 9,
   "metadata": {},
   "outputs": [
    {
     "name": "stdout",
     "output_type": "stream",
     "text": [
      "['Life Made WI-Fi Touchscreen Photo Frame', '1.9', '19', '3.0M', '1,000+', 'Free', '0', 'Everyone', '', 'February 11, 2018', '1.0.19', '4.0 and up']\n"
     ]
    }
   ],
   "source": [
    "print(google_data[10473])\n",
    "del google_data[10473]"
   ]
  },
  {
   "cell_type": "markdown",
   "metadata": {},
   "source": [
    "We found that infact, row 10473 has a missing value for 'Category' and the rest of the data was shifted, making it incorrect.\n",
    "\n",
    "### Next we will move on to find duplicates.\n",
    "It was mentioned in the discussion of the Google Play data that there are multiple duplicates."
   ]
  },
  {
   "cell_type": "code",
   "execution_count": 10,
   "metadata": {},
   "outputs": [
    {
     "name": "stdout",
     "output_type": "stream",
     "text": [
      "Number of duplicate apps: 1181\n",
      "\n",
      "\n",
      "Examples of duplicate apps: ['Quick PDF Scanner + OCR FREE', 'Box', 'Google My Business', 'ZOOM Cloud Meetings', 'join.me - Simple Meetings']\n"
     ]
    }
   ],
   "source": [
    "unique_apps = []\n",
    "duplicate_apps =[]\n",
    "\n",
    "for app in google_data[1:]:\n",
    "    appname = app[0]\n",
    "    if appname in unique_apps:\n",
    "        duplicate_apps.append(appname)\n",
    "    else:\n",
    "        unique_apps.append(appname)\n",
    "\n",
    "print('Number of duplicate apps:', len(duplicate_apps))\n",
    "print('\\n')\n",
    "print('Examples of duplicate apps:', duplicate_apps[:5])"
   ]
  },
  {
   "cell_type": "markdown",
   "metadata": {},
   "source": [
    "We found quite a few amount of duplicates, so we need to find a way to choose the proper app entry to keep. It would be of good idea to use the one with the most current information. We could use the date that it was updated, but that stays with the application for a long time. The most accurate way is finding the rating count, which will only continue increasing.<br><br>\n",
    "We need to find the highest rating for each app, and keep that.\n",
    "To do this we will create a dictionary which will keep the application name as the key, and the value will be the highest review count."
   ]
  },
  {
   "cell_type": "code",
   "execution_count": 11,
   "metadata": {},
   "outputs": [],
   "source": [
    "reviews_max = {}\n",
    "\n",
    "for app in google_data[1:]:\n",
    "    appname = app[0]\n",
    "    n_reviews = float(app[3])\n",
    "    \n",
    "    if appname in reviews_max and reviews_max[appname] < n_reviews:\n",
    "        reviews_max[appname] = n_reviews\n",
    "        \n",
    "    elif appname not in reviews_max:\n",
    "        reviews_max[appname] = n_reviews"
   ]
  },
  {
   "cell_type": "markdown",
   "metadata": {},
   "source": [
    "Previousl we calculated that the number of duplicate apps is 1181 so we will subtract this to our dataset length to find the expected value. Since our dataset has the headers we will begin with row 1 instead of the default of 0."
   ]
  },
  {
   "cell_type": "code",
   "execution_count": 12,
   "metadata": {},
   "outputs": [
    {
     "name": "stdout",
     "output_type": "stream",
     "text": [
      "Expected length: 9659\n",
      "Actual length: 9659\n"
     ]
    }
   ],
   "source": [
    "print('Expected length:', len(google_data[1:])-1181)\n",
    "print('Actual length:', len(reviews_max))"
   ]
  },
  {
   "cell_type": "markdown",
   "metadata": {},
   "source": [
    "### Duplicate deletion\n",
    "Now we will move to delete the duplicates to have a clean data. To do this we will iterate through the apps and append the entry with the most reviews (reviews_max)."
   ]
  },
  {
   "cell_type": "code",
   "execution_count": 13,
   "metadata": {},
   "outputs": [
    {
     "name": "stdout",
     "output_type": "stream",
     "text": [
      "['Name Art Photo Editor - Focus n Filters', 'ART_AND_DESIGN', '4.4', '8788', '12M', '1,000,000+', 'Free', '0', 'Everyone', 'Art & Design', 'July 31, 2018', '1.0.15', '4.0 and up']\n",
      "\n",
      "\n",
      "['Tattoo Name On My Photo Editor', 'ART_AND_DESIGN', '4.2', '44829', '20M', '10,000,000+', 'Free', '0', 'Teen', 'Art & Design', 'April 2, 2018', '3.8', '4.1 and up']\n",
      "\n",
      "\n",
      "['Mandala Coloring Book', 'ART_AND_DESIGN', '4.6', '4326', '21M', '100,000+', 'Free', '0', 'Everyone', 'Art & Design', 'June 26, 2018', '1.0.4', '4.4 and up']\n",
      "\n",
      "\n",
      "Number of rows: 9659\n",
      "Number of columns: 13\n"
     ]
    }
   ],
   "source": [
    "google_data_clean= [] # Where our new cleaned dataset will be stored\n",
    "already_added= [] # Criteria to check if we already added an item to the clean dataset\n",
    "\n",
    "for app in google_data[1:]:\n",
    "    appname = app[0]\n",
    "    n_reviews = float(app[3])\n",
    "    \n",
    "    if (reviews_max[appname] == n_reviews) and (appname not in already_added):\n",
    "        google_data_clean.append(app)\n",
    "        already_added.append(appname)\n",
    "        \n",
    "explore_data(google_data_clean,10,13,True)"
   ]
  },
  {
   "cell_type": "code",
   "execution_count": 14,
   "metadata": {},
   "outputs": [
    {
     "name": "stdout",
     "output_type": "stream",
     "text": [
      "Number of duplicate apps: 0\n",
      "Examples of duplicate apps: []\n"
     ]
    }
   ],
   "source": [
    "unique_apps = []\n",
    "duplicate_apps =[]\n",
    "\n",
    "for app in app_datata[1:]:\n",
    "    appname = app[0]\n",
    "    if appname in unique_apps:\n",
    "        duplicate_apps.append(appname)\n",
    "    else:\n",
    "        unique_apps.append(appname)\n",
    "\n",
    "print('Number of duplicate apps:', len(duplicate_apps))\n",
    "print('Examples of duplicate apps:', duplicate_apps[:5])"
   ]
  },
  {
   "cell_type": "markdown",
   "metadata": {},
   "source": [
    "We can see that the app_datata does not have any duplicates so we will move on to the next step. We noticed that there are some apps in other languages.\n",
    "\n",
    "### Apps for English users\n",
    "\n",
    "Since we are going to be targeting an English-speaking audience, we will remove the apps that are in other languages. There is no variable with language so we will find this through the application names.\n",
    "<br>\n",
    "The English language uses A-Z, a-z and some numbers. Since each character has an ordinal number we will use it to determine if a string (application name) contains ordinals that are not used by the English language."
   ]
  },
  {
   "cell_type": "code",
   "execution_count": 15,
   "metadata": {},
   "outputs": [],
   "source": [
    "def eng_checker(string):\n",
    "    for character in string:\n",
    "        if ord(character) > 127:\n",
    "            return False\n",
    "    return True"
   ]
  },
  {
   "cell_type": "code",
   "execution_count": 16,
   "metadata": {},
   "outputs": [
    {
     "name": "stdout",
     "output_type": "stream",
     "text": [
      "True\n",
      "False\n",
      "False\n",
      "False\n"
     ]
    }
   ],
   "source": [
    "str1 ='Instagram'\n",
    "str2 ='爱奇艺PPS -《欢乐颂2》电视剧热播'\n",
    "str3 ='Docs To Go™ Free Office Suite'\n",
    "str4 ='Instachat 😜'\n",
    "\n",
    "print(eng_checker(str1))\n",
    "print(eng_checker(str2))\n",
    "print(eng_checker(str3))\n",
    "print(eng_checker(str4))"
   ]
  },
  {
   "cell_type": "markdown",
   "metadata": {},
   "source": [
    "Unfortunately this marks the last two string as non-English. This must be from the extra character that emjois and characters that are not commonly used but still used in the English language. To accomodate for this we will check if a given application name has more than 3 odd characters. If it does, we can conclude that it is a different language."
   ]
  },
  {
   "cell_type": "code",
   "execution_count": 17,
   "metadata": {},
   "outputs": [
    {
     "name": "stdout",
     "output_type": "stream",
     "text": [
      "True\n",
      "False\n",
      "True\n",
      "True\n"
     ]
    }
   ],
   "source": [
    "def eng_checker(string):\n",
    "    odd_count = 0\n",
    "    \n",
    "    for character in string:\n",
    "        if ord(character) > 127:\n",
    "            odd_count += 1\n",
    "    if odd_count > 3:\n",
    "            return False\n",
    "    else:\n",
    "        return True\n",
    "\n",
    "print(eng_checker(str1))\n",
    "print(eng_checker(str2))\n",
    "print(eng_checker(str3))\n",
    "print(eng_checker(str4))"
   ]
  },
  {
   "cell_type": "markdown",
   "metadata": {},
   "source": [
    "Now that we have a working function we will go through each application name on both datasets and create new lists with only the English apps."
   ]
  },
  {
   "cell_type": "code",
   "execution_count": 18,
   "metadata": {},
   "outputs": [
    {
     "name": "stdout",
     "output_type": "stream",
     "text": [
      "['Name Art Photo Editor - Focus n Filters', 'ART_AND_DESIGN', '4.4', '8788', '12M', '1,000,000+', 'Free', '0', 'Everyone', 'Art & Design', 'July 31, 2018', '1.0.15', '4.0 and up']\n",
      "\n",
      "\n",
      "['Tattoo Name On My Photo Editor', 'ART_AND_DESIGN', '4.2', '44829', '20M', '10,000,000+', 'Free', '0', 'Teen', 'Art & Design', 'April 2, 2018', '3.8', '4.1 and up']\n",
      "\n",
      "\n",
      "Number of rows: 9614\n",
      "Number of columns: 13\n",
      "['11', '284791396', 'Solitaire by MobilityWare', '49618944', 'USD', '4.99', '76720', '4017', '4.5', '4.5', '4.10.1', '4+', 'Games', '38', '4', '11', '1']\n",
      "\n",
      "\n",
      "['12', '284815117', 'SCRABBLE Premium', '227547136', 'USD', '7.99', '105776', '166', '3.5', '2.5', '5.19.0', '4+', 'Games', '37', '0', '6', '1']\n",
      "\n",
      "\n",
      "Number of rows: 6183\n",
      "Number of columns: 17\n"
     ]
    }
   ],
   "source": [
    "google_data_eng = []\n",
    "app_data_eng = []\n",
    "\n",
    "for app in google_data_clean:\n",
    "    appname = app[0]\n",
    "    if eng_checker(appname):\n",
    "        google_data_eng.append(app)\n",
    "for app in app_datata[1:]:\n",
    "    appname = app[2]\n",
    "    if eng_checker(appname):\n",
    "        app_data_eng.append(app)\n",
    "        \n",
    "# Then let's explore the new lists.\n",
    "explore_data(google_data_eng,10,12,True)\n",
    "explore_data(app_data_eng,10,12,True)"
   ]
  },
  {
   "cell_type": "markdown",
   "metadata": {},
   "source": [
    "We have 9614 app entries in the Google Play data and 6183 in the Apps Store data. Now that we have separated English only apps we can now continue cleaning the data. In this last section of cleaning, we will remove apps that are not free.\n",
    "\n",
    "### Removing non-free apps\n",
    "We will again create new lists to store the free-only apps. For Google Play this can be found in the **type column (6)** and in the Apps Store it can be found in the **price column (5)**."
   ]
  },
  {
   "cell_type": "code",
   "execution_count": 19,
   "metadata": {},
   "outputs": [
    {
     "name": "stdout",
     "output_type": "stream",
     "text": [
      "8862\n",
      "3222\n"
     ]
    }
   ],
   "source": [
    "google_data_free = []\n",
    "app_data_free = []\n",
    "\n",
    "for app in google_data_eng[1:]:\n",
    "    free_checker = app[6]\n",
    "    if free_checker == 'Free':\n",
    "        google_data_free.append(app)\n",
    "        \n",
    "for apps in app_data_eng[1:]:\n",
    "    price = apps[5]\n",
    "    if price == '0':\n",
    "        app_data_free.append(apps)\n",
    "        \n",
    "print(len(google_data_free))\n",
    "print(len(app_data_free))"
   ]
  },
  {
   "cell_type": "markdown",
   "metadata": {},
   "source": [
    "Now we have 8862 entry for the Google play and 3222 for the Apps Store data.\n",
    "<br>\n",
    "Next we will begin analysing the data."
   ]
  },
  {
   "cell_type": "markdown",
   "metadata": {},
   "source": [
    "# Data Analysis\n",
    "After cleaning the data we will now begin to explore the data to find a suitable app we can create.\n",
    "### Most profitable app\n",
    "Since we want to make an app that can be ported to both app markets, we need to find what works best for both markets. This leads to a step process of introducing the app in the Android market, and see if it does well. If there is good growth, it will be continued to be developed. If it is profitable after six months then it will be ported into the iOS market.\n",
    "\n",
    "<br>\n",
    "We will look at three variables for this:\n",
    "\n",
    "1. Category, Genres/ prime_genre to find what types of genres are popular\n",
    "2. Installs / raint_count_tot - to find apps the are the most downloaded\n",
    "3. Rating/ user_rating - to find the apps that have a good review from users"
   ]
  },
  {
   "cell_type": "markdown",
   "metadata": {},
   "source": [
    "## 1. Genres\n",
    "\n",
    "First we will begin by creating a frequency table of the genres for both datasets."
   ]
  },
  {
   "cell_type": "code",
   "execution_count": 20,
   "metadata": {},
   "outputs": [],
   "source": [
    "def freq_table(dataset,index):\n",
    "    frequency_table={}\n",
    "    total = 0\n",
    "    for row in dataset[1:]:\n",
    "        total += 1\n",
    "        colname = row[index]\n",
    "        if colname in frequency_table:\n",
    "            frequency_table[colname] += 1\n",
    "        else:\n",
    "            frequency_table[colname] = 1\n",
    "            \n",
    "    table_percentages = {}\n",
    "    for entry in frequency_table:\n",
    "        percentage = (frequency_table[entry]/total) * 100\n",
    "        table_percentages[entry] = percentage\n",
    "    return table_percentages\n",
    "\n",
    "def display_table(dataset,index):\n",
    "    table = freq_table(dataset,index)\n",
    "    table_display=[]\n",
    "    for key in table:\n",
    "        key_val_as_tuple = (table[key],key)\n",
    "        table_display.append(key_val_as_tuple)\n",
    "        \n",
    "    table_sorted = sorted(table_display, reverse=True)\n",
    "    for entry in table_sorted:\n",
    "        print(entry[1], ':', entry[0])"
   ]
  },
  {
   "cell_type": "code",
   "execution_count": 21,
   "metadata": {},
   "outputs": [
    {
     "name": "stdout",
     "output_type": "stream",
     "text": [
      "FAMILY : 18.90305834555919\n",
      "GAME : 9.728021667983297\n",
      "TOOLS : 8.46405597562352\n",
      "BUSINESS : 4.593161042771697\n",
      "LIFESTYLE : 3.9047511567543167\n",
      "PRODUCTIVITY : 3.8934657487868187\n",
      "FINANCE : 3.7016138133393524\n",
      "MEDICAL : 3.532332693826882\n",
      "SPORTS : 3.3969077982169056\n",
      "PERSONALIZATION : 3.317909942444419\n",
      "COMMUNICATION : 3.2389120866719328\n",
      "HEALTH_AND_FITNESS : 3.080916375126961\n",
      "PHOTOGRAPHY : 2.9454914795169844\n",
      "NEWS_AND_MAGAZINES : 2.7987811759395105\n",
      "SOCIAL : 2.663356280329534\n",
      "TRAVEL_AND_LOCAL : 2.3360794492720913\n",
      "SHOPPING : 2.245796185532107\n",
      "BOOKS_AND_REFERENCE : 2.144227513824625\n",
      "DATING : 1.8620923146371742\n",
      "VIDEO_PLAYERS : 1.794379866832186\n",
      "MAPS_AND_NAVIGATION : 1.3993905879697552\n",
      "FOOD_AND_DRINK : 1.2413948764247829\n",
      "EDUCATION : 1.1623970206522967\n",
      "ENTERTAINMENT : 0.9592596772373322\n",
      "LIBRARIES_AND_DEMO : 0.9366888613023362\n",
      "AUTO_AND_VEHICLES : 0.9254034533348381\n",
      "HOUSE_AND_HOME : 0.8238347816273558\n",
      "WEATHER : 0.8012639656923597\n",
      "EVENTS : 0.7109807019523756\n",
      "PARENTING : 0.6545536621148855\n",
      "COMICS : 0.6206974382123914\n",
      "ART_AND_DESIGN : 0.6206974382123914\n",
      "BEAUTY : 0.5981266222773953\n"
     ]
    }
   ],
   "source": [
    "# Category Google Play\n",
    "display_table(google_data_free, 1)"
   ]
  },
  {
   "cell_type": "code",
   "execution_count": 22,
   "metadata": {},
   "outputs": [
    {
     "name": "stdout",
     "output_type": "stream",
     "text": [
      "Tools : 8.452770567656021\n",
      "Entertainment : 6.071549486513937\n",
      "Education : 5.349283376594064\n",
      "Business : 4.593161042771697\n",
      "Productivity : 3.8934657487868187\n",
      "Lifestyle : 3.8934657487868187\n",
      "Finance : 3.7016138133393524\n",
      "Medical : 3.532332693826882\n",
      "Sports : 3.464620246021894\n",
      "Personalization : 3.317909942444419\n",
      "Communication : 3.2389120866719328\n",
      "Action : 3.103487191061957\n",
      "Health & Fitness : 3.080916375126961\n",
      "Photography : 2.9454914795169844\n",
      "News & Magazines : 2.7987811759395105\n",
      "Social : 2.663356280329534\n",
      "Travel & Local : 2.3247940413045933\n",
      "Shopping : 2.245796185532107\n",
      "Books & Reference : 2.144227513824625\n",
      "Simulation : 2.0426588421171425\n",
      "Dating : 1.8620923146371742\n",
      "Arcade : 1.8508069066696762\n",
      "Video Players & Editors : 1.7718090508971898\n",
      "Casual : 1.760523642929692\n",
      "Maps & Navigation : 1.3993905879697552\n",
      "Food & Drink : 1.2413948764247829\n",
      "Puzzle : 1.1285407967498025\n",
      "Racing : 0.9931159011398263\n",
      "Role Playing : 0.9366888613023362\n",
      "Libraries & Demo : 0.9366888613023362\n",
      "Auto & Vehicles : 0.9254034533348381\n",
      "Strategy : 0.9028326373998421\n",
      "House & Home : 0.8238347816273558\n",
      "Weather : 0.8012639656923597\n",
      "Events : 0.7109807019523756\n",
      "Adventure : 0.6771244780498815\n",
      "Comics : 0.6094120302448933\n",
      "Beauty : 0.5981266222773953\n",
      "Art & Design : 0.5755558063423992\n",
      "Parenting : 0.49655795056991314\n",
      "Card : 0.45141631869992105\n",
      "Casino : 0.42884550276492495\n",
      "Trivia : 0.4175600947974269\n",
      "Educational;Education : 0.3949892788624309\n",
      "Board : 0.38370387089493285\n",
      "Educational : 0.3724184629274348\n",
      "Education;Education : 0.33856223902494076\n",
      "Word : 0.25956438325245457\n",
      "Casual;Pretend Play : 0.23699356731745852\n",
      "Music : 0.20313734341496445\n",
      "Racing;Action & Adventure : 0.16928111951247038\n",
      "Puzzle;Brain Games : 0.16928111951247038\n",
      "Entertainment;Music & Video : 0.16928111951247038\n",
      "Casual;Brain Games : 0.13542489560997628\n",
      "Casual;Action & Adventure : 0.13542489560997628\n",
      "Arcade;Action & Adventure : 0.12413948764247829\n",
      "Action;Action & Adventure : 0.10156867170748222\n",
      "Educational;Pretend Play : 0.0902832637399842\n",
      "Simulation;Action & Adventure : 0.07899785577248618\n",
      "Parenting;Education : 0.07899785577248618\n",
      "Entertainment;Brain Games : 0.07899785577248618\n",
      "Board;Brain Games : 0.07899785577248618\n",
      "Parenting;Music & Video : 0.06771244780498814\n",
      "Educational;Brain Games : 0.06771244780498814\n",
      "Casual;Creativity : 0.06771244780498814\n",
      "Art & Design;Creativity : 0.06771244780498814\n",
      "Education;Pretend Play : 0.05642703983749013\n",
      "Role Playing;Pretend Play : 0.0451416318699921\n",
      "Education;Creativity : 0.0451416318699921\n",
      "Role Playing;Action & Adventure : 0.03385622390249407\n",
      "Puzzle;Action & Adventure : 0.03385622390249407\n",
      "Entertainment;Creativity : 0.03385622390249407\n",
      "Entertainment;Action & Adventure : 0.03385622390249407\n",
      "Educational;Creativity : 0.03385622390249407\n",
      "Educational;Action & Adventure : 0.03385622390249407\n",
      "Education;Music & Video : 0.03385622390249407\n",
      "Education;Brain Games : 0.03385622390249407\n",
      "Education;Action & Adventure : 0.03385622390249407\n",
      "Adventure;Action & Adventure : 0.03385622390249407\n",
      "Video Players & Editors;Music & Video : 0.02257081593499605\n",
      "Sports;Action & Adventure : 0.02257081593499605\n",
      "Simulation;Pretend Play : 0.02257081593499605\n",
      "Puzzle;Creativity : 0.02257081593499605\n",
      "Music;Music & Video : 0.02257081593499605\n",
      "Entertainment;Pretend Play : 0.02257081593499605\n",
      "Casual;Education : 0.02257081593499605\n",
      "Board;Action & Adventure : 0.02257081593499605\n",
      "Video Players & Editors;Creativity : 0.011285407967498025\n",
      "Trivia;Education : 0.011285407967498025\n",
      "Travel & Local;Action & Adventure : 0.011285407967498025\n",
      "Tools;Education : 0.011285407967498025\n",
      "Strategy;Education : 0.011285407967498025\n",
      "Strategy;Creativity : 0.011285407967498025\n",
      "Strategy;Action & Adventure : 0.011285407967498025\n",
      "Simulation;Education : 0.011285407967498025\n",
      "Role Playing;Brain Games : 0.011285407967498025\n",
      "Racing;Pretend Play : 0.011285407967498025\n",
      "Puzzle;Education : 0.011285407967498025\n",
      "Parenting;Brain Games : 0.011285407967498025\n",
      "Music & Audio;Music & Video : 0.011285407967498025\n",
      "Lifestyle;Pretend Play : 0.011285407967498025\n",
      "Lifestyle;Education : 0.011285407967498025\n",
      "Health & Fitness;Education : 0.011285407967498025\n",
      "Health & Fitness;Action & Adventure : 0.011285407967498025\n",
      "Entertainment;Education : 0.011285407967498025\n",
      "Communication;Creativity : 0.011285407967498025\n",
      "Comics;Creativity : 0.011285407967498025\n",
      "Casual;Music & Video : 0.011285407967498025\n",
      "Card;Action & Adventure : 0.011285407967498025\n",
      "Books & Reference;Education : 0.011285407967498025\n",
      "Art & Design;Pretend Play : 0.011285407967498025\n",
      "Art & Design;Action & Adventure : 0.011285407967498025\n",
      "Arcade;Pretend Play : 0.011285407967498025\n",
      "Adventure;Education : 0.011285407967498025\n"
     ]
    }
   ],
   "source": [
    "# Genre Google Play\n",
    "display_table(google_data_free, 9)"
   ]
  },
  {
   "cell_type": "code",
   "execution_count": 23,
   "metadata": {},
   "outputs": [
    {
     "name": "stdout",
     "output_type": "stream",
     "text": [
      "Games : 58.180689226948154\n",
      "Entertainment : 7.885749767153058\n",
      "Photo & Video : 4.967401428127911\n",
      "Education : 3.6634585532443342\n",
      "Social Networking : 3.290903446134741\n",
      "Shopping : 2.607885749767153\n",
      "Utilities : 2.5147469729897547\n",
      "Sports : 2.1421918658801617\n",
      "Music : 2.049053089102763\n",
      "Health & Fitness : 2.018006830176964\n",
      "Productivity : 1.7075442409189692\n",
      "Lifestyle : 1.5833592052157717\n",
      "News : 1.334989133809376\n",
      "Travel : 1.2418503570319777\n",
      "Finance : 1.11766532132878\n",
      "Weather : 0.8692952499223843\n",
      "Food & Drink : 0.8072027320707855\n",
      "Reference : 0.55883266066439\n",
      "Business : 0.5277864017385905\n",
      "Book : 0.43464762496119214\n",
      "Navigation : 0.18627755355479667\n",
      "Medical : 0.18627755355479667\n",
      "Catalogs : 0.12418503570319776\n"
     ]
    }
   ],
   "source": [
    "# Prime_genre Apps Store\n",
    "display_table(app_data_free, 12)"
   ]
  },
  {
   "cell_type": "markdown",
   "metadata": {},
   "source": [
    "### Category (Google)\n",
    "Here we can see that the most common application is for **family** and next is **game** then **tools**. Perhaps the applications for the Google Play store are more for function. \n",
    "### Genre (Google)\n",
    "Also in the Google Play data we can see that Genres has many more categories to choose from although many have very little share of the total. The most prominent is Tools, Entertaiment, Education, and Business. These all seem to be for productivity. Since it is such a long list we will continue to use the category for the rest of the analysis for the Google data.\n",
    "### Prime_genre (App Store)\n",
    "Here we can see 58% of the apps are Games, a huge number compared to 18% from the Google Play store. The apps are for entertainment and not necessarily productivity.\n",
    "\n",
    "### Category Conclusion\n",
    "We cannot recommend an app that could work for both markets because at this point, they seem to be having differing target audiences.\n",
    "Next we will move on to the next variable: Total downloads\n",
    "This way we can analyze what type of apps people are downloading more."
   ]
  },
  {
   "cell_type": "markdown",
   "metadata": {},
   "source": [
    "## 2. Application Installs\n",
    "Now we will continue by checking the amount of installs of each genre instead of by app. We don't want to copy an app, but would like to see what genre is most popular. This could give us direction for what type of app can be created and be successful in the applications market.\n",
    "\n",
    "For the google store we have a variable **Installs** that gives us the amount of times an application has been downloaded. For the App Store we don't have such variable. To make up for this we will use the variable **rating_count_tot** to approximate the amount of downloads it has.\n",
    "\n",
    "First we'll use the frequency function we created earlier to use for counting the total amount of downloads per genre."
   ]
  },
  {
   "cell_type": "code",
   "execution_count": 24,
   "metadata": {},
   "outputs": [],
   "source": [
    "google_ft = freq_table(google_data_free,1)\n",
    "app_ft = freq_table(app_data_free,12)"
   ]
  },
  {
   "cell_type": "code",
   "execution_count": 25,
   "metadata": {},
   "outputs": [
    {
     "name": "stdout",
     "output_type": "stream",
     "text": [
      "ART_AND_DESIGN : 1967475\n",
      "AUTO_AND_VEHICLES : 647318\n",
      "BEAUTY : 513152\n",
      "BOOKS_AND_REFERENCE : 8767812\n",
      "BUSINESS : 1712290\n",
      "COMICS : 817657\n",
      "COMMUNICATION : 38456119\n",
      "DATING : 854029\n",
      "EDUCATION : 1833495\n",
      "ENTERTAINMENT : 11640706\n",
      "EVENTS : 253542\n",
      "FINANCE : 1387692\n",
      "FOOD_AND_DRINK : 1924898\n",
      "HEALTH_AND_FITNESS : 4188822\n",
      "HOUSE_AND_HOME : 1331541\n",
      "LIBRARIES_AND_DEMO : 638504\n",
      "LIFESTYLE : 1437816\n",
      "GAME : 15588016\n",
      "FAMILY : 3697848\n",
      "MEDICAL : 120551\n",
      "SOCIAL : 23253652\n",
      "SHOPPING : 7036877\n",
      "PHOTOGRAPHY : 17840110\n",
      "SPORTS : 3638640\n",
      "TRAVEL_AND_LOCAL : 13984078\n",
      "TOOLS : 10801391\n",
      "PERSONALIZATION : 5201483\n",
      "PRODUCTIVITY : 16787331\n",
      "PARENTING : 542604\n",
      "WEATHER : 5074486\n",
      "VIDEO_PLAYERS : 24727872\n",
      "NEWS_AND_MAGAZINES : 9549178\n",
      "MAPS_AND_NAVIGATION : 4056942\n"
     ]
    }
   ],
   "source": [
    "for category in google_ft:\n",
    "    total = 0\n",
    "    len_category = 0\n",
    "    for app in google_data_free[1:]:\n",
    "        category_app = app[1]\n",
    "        if category_app == category:\n",
    "            n_installs = app[5]\n",
    "            # remove the + and , and convert to a float\n",
    "            n_installs = n_installs.replace('+','')\n",
    "            n_installs = n_installs.replace(',','')\n",
    "            n_installs = float(n_installs)\n",
    "            total += n_installs\n",
    "            len_category += 1\n",
    "    avg_installs = round(total/len_category)\n",
    "    print(category,':',avg_installs)"
   ]
  },
  {
   "cell_type": "markdown",
   "metadata": {},
   "source": [
    "For the Google Play Store the most popular apps are Communication, Video Players, Social, Photography, Productivity, game and Travel and Local.\n",
    "Having these as the most installed doesn't necessarily mean this application genre is most popular. Perhaps a few apps make the most of the installs. Let's check this out."
   ]
  },
  {
   "cell_type": "code",
   "execution_count": 58,
   "metadata": {},
   "outputs": [],
   "source": [
    "def top_10apps(var_name):\n",
    "    list_name = []\n",
    "    for app in google_data_free[1:]:\n",
    "        if app [1] == var_name:\n",
    "            name = app[0]\n",
    "            installs = app[5]\n",
    "            installs = installs.replace('+','')\n",
    "            installs = installs.replace(',','')\n",
    "            installs = float(installs)\n",
    "            list_name.append([installs,name])\n",
    "            list_name = sorted(list_name, reverse=True)\n",
    "    print(var_name)\n",
    "    for element in list_name[:10]:\n",
    "        print (element)"
   ]
  },
  {
   "cell_type": "code",
   "execution_count": 59,
   "metadata": {},
   "outputs": [
    {
     "name": "stdout",
     "output_type": "stream",
     "text": [
      "COMMUNICATION\n",
      "[1000000000.0, 'WhatsApp Messenger']\n",
      "[1000000000.0, 'Skype - free IM & video calls']\n",
      "[1000000000.0, 'Messenger – Text and Video Chat for Free']\n",
      "[1000000000.0, 'Hangouts']\n",
      "[1000000000.0, 'Google Chrome: Fast & Secure']\n",
      "[1000000000.0, 'Gmail']\n",
      "[500000000.0, 'imo free video calls and chat']\n",
      "[500000000.0, 'Viber Messenger']\n",
      "[500000000.0, 'UC Browser - Fast Download Private & Secure']\n",
      "[500000000.0, 'LINE: Free Calls & Messages']\n",
      "VIDEO_PLAYERS\n",
      "[1000000000.0, 'YouTube']\n",
      "[1000000000.0, 'Google Play Movies & TV']\n",
      "[500000000.0, 'MX Player']\n",
      "[100000000.0, 'VivaVideo - Video Editor & Photo Movie']\n",
      "[100000000.0, 'VideoShow-Video Editor, Video Maker, Beauty Camera']\n",
      "[100000000.0, 'VLC for Android']\n",
      "[100000000.0, 'Motorola Gallery']\n",
      "[100000000.0, 'Motorola FM Radio']\n",
      "[100000000.0, 'Dubsmash']\n",
      "[50000000.0, 'Vote for']\n",
      "SOCIAL\n",
      "[1000000000.0, 'Instagram']\n",
      "[1000000000.0, 'Google+']\n",
      "[1000000000.0, 'Facebook']\n",
      "[500000000.0, 'Snapchat']\n",
      "[500000000.0, 'Facebook Lite']\n",
      "[100000000.0, 'VK']\n",
      "[100000000.0, 'Tumblr']\n",
      "[100000000.0, 'Tik Tok - including musical.ly']\n",
      "[100000000.0, 'Tango - Live Video Broadcast']\n",
      "[100000000.0, 'Pinterest']\n",
      "PHOTOGRAPHY\n",
      "[1000000000.0, 'Google Photos']\n",
      "[100000000.0, 'Z Camera - Photo Editor, Beauty Selfie, Collage']\n",
      "[100000000.0, 'YouCam Perfect - Selfie Photo Editor']\n",
      "[100000000.0, 'YouCam Makeup - Magic Selfie Makeovers']\n",
      "[100000000.0, 'Sweet Selfie - selfie camera, beauty cam, photo edit']\n",
      "[100000000.0, 'S Photo Editor - Collage Maker , Photo Collage']\n",
      "[100000000.0, 'Retrica']\n",
      "[100000000.0, 'PicsArt Photo Studio: Collage Maker & Pic Editor']\n",
      "[100000000.0, 'PhotoGrid: Video & Pic Collage Maker, Photo Editor']\n",
      "[100000000.0, 'Photo Editor Pro']\n",
      "PRODUCTIVITY\n",
      "[1000000000.0, 'Google Drive']\n",
      "[500000000.0, 'Microsoft Word']\n",
      "[500000000.0, 'Google Calendar']\n",
      "[500000000.0, 'Dropbox']\n",
      "[500000000.0, 'Cloud Print']\n",
      "[100000000.0, 'WPS Office - Word, Docs, PDF, Note, Slide & Sheet']\n",
      "[100000000.0, 'SwiftKey Keyboard']\n",
      "[100000000.0, 'Samsung Notes']\n",
      "[100000000.0, 'Microsoft PowerPoint']\n",
      "[100000000.0, 'Microsoft Outlook']\n",
      "GAME\n",
      "[1000000000.0, 'Subway Surfers']\n",
      "[500000000.0, 'Temple Run 2']\n",
      "[500000000.0, 'Pou']\n",
      "[500000000.0, 'My Talking Tom']\n",
      "[500000000.0, 'Candy Crush Saga']\n",
      "[100000000.0, 'slither.io']\n",
      "[100000000.0, 'Zombie Tsunami']\n",
      "[100000000.0, 'Yes day']\n",
      "[100000000.0, 'Vector']\n",
      "[100000000.0, 'Trivia Crack']\n",
      "TRAVEL_AND_LOCAL\n",
      "[1000000000.0, 'Maps - Navigate & Explore']\n",
      "[1000000000.0, 'Google Street View']\n",
      "[100000000.0, 'TripAdvisor Hotels Flights Restaurants Attractions']\n",
      "[100000000.0, 'Google Earth']\n",
      "[100000000.0, 'Booking.com Travel Deals']\n",
      "[50000000.0, 'trivago: Hotels & Travel']\n",
      "[50000000.0, 'VZ Navigator']\n",
      "[50000000.0, 'MAPS.ME – Offline Map and Travel Navigation']\n",
      "[50000000.0, '2GIS: directory & navigator']\n",
      "[10000000.0, 'easyJet: Travel App']\n"
     ]
    }
   ],
   "source": [
    "top_10apps('COMMUNICATION')\n",
    "top_10apps('VIDEO_PLAYERS')\n",
    "top_10apps('SOCIAL')\n",
    "top_10apps('PHOTOGRAPHY')\n",
    "top_10apps('PRODUCTIVITY')\n",
    "top_10apps('GAME')\n",
    "top_10apps('TRAVEL_AND_LOCAL')"
   ]
  }
 ],
 "metadata": {
  "kernelspec": {
   "display_name": "Python 3",
   "language": "python",
   "name": "python3"
  },
  "language_info": {
   "codemirror_mode": {
    "name": "ipython",
    "version": 3
   },
   "file_extension": ".py",
   "mimetype": "text/x-python",
   "name": "python",
   "nbconvert_exporter": "python",
   "pygments_lexer": "ipython3",
   "version": "3.7.3"
  }
 },
 "nbformat": 4,
 "nbformat_minor": 2
}
